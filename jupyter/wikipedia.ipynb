{
 "cells": [
  {
   "cell_type": "code",
   "execution_count": null,
   "id": "c8126617-94dc-42e5-875a-a5b77b14f1a7",
   "metadata": {},
   "outputs": [],
   "source": [
    "import os\n",
    "import json\n",
    "import pandas as pd\n",
    "from matplotlib import pyplot as plt"
   ]
  },
  {
   "cell_type": "code",
   "execution_count": null,
   "id": "39098047-462e-40d6-a687-e9158340bad0",
   "metadata": {},
   "outputs": [],
   "source": [
    "s={'a':1}\n",
    "dict(**{k:v*2 for k,v in s.items()})\n",
    "#[dict(template,**{k:value}) for value in add]"
   ]
  },
  {
   "cell_type": "code",
   "execution_count": null,
   "id": "062cd5a3-4a9b-4efe-ae21-2fd7c87b13e8",
   "metadata": {
    "tags": []
   },
   "outputs": [],
   "source": [
    "CACHE_PATH='../python/cache/pageviews'\n",
    "\n",
    "PAGE_TYPES = {\n",
    "    \"Main_Page\": \"meta\",\n",
    "\t\"Special:Search\": \"meta\"\n",
    "}\n",
    "\n",
    "def page_type(name):\n",
    "    return PAGE_TYPES[name] if name in PAGE_TYPES else \"content\"\n",
    "    \n",
    "def denorm(doc, n=10):\n",
    "    s = doc['items'][0]\n",
    "    out = [\n",
    "        dict(\n",
    "            article,\n",
    "            date = f\"{s['year']}-{s['month']}-{s['day']}\",\n",
    "            #type = article_type(article['article']) \n",
    "        )\n",
    "        for article in s['articles'][:n]\n",
    "    ]\n",
    "    return out\n",
    "    \n",
    "\n",
    "def load_pageviews(date_count=10, top_pages=5):\n",
    "    doctable = []\n",
    "    for f in os.listdir(CACHE_PATH):\n",
    "        doc = json.load(open(f\"{CACHE_PATH}/{f}\"))\n",
    "        filtered_doc = denorm(doc, top_pages)\n",
    "        doctable.extend(\n",
    "            filtered_doc\n",
    "        )\n",
    "    return doctable\n",
    "\n",
    "df = pd.DataFrame(\n",
    "    load_pageviews(date_count=3000, top_pages=12)\n",
    ")"
   ]
  },
  {
   "cell_type": "code",
   "execution_count": null,
   "id": "5a02b7e0-418d-4522-bb97-df299eee7354",
   "metadata": {},
   "outputs": [],
   "source": [
    "_ = df.pivot(index='date', columns='article', values='views')[['Janet_Yellen','Main_Page','Special:Search']].plot(rot=90)"
   ]
  },
  {
   "cell_type": "code",
   "execution_count": null,
   "id": "04bc6284-0e48-4588-b5e3-f1492db198c3",
   "metadata": {},
   "outputs": [],
   "source": [
    "df"
   ]
  },
  {
   "cell_type": "code",
   "execution_count": null,
   "id": "09989810-825b-4e8a-a42f-c564a2a05177",
   "metadata": {},
   "outputs": [],
   "source": [
    "df['date'].sort_values().unique()"
   ]
  },
  {
   "cell_type": "code",
   "execution_count": null,
   "id": "e530c7b3-9536-4c31-a99a-6e02fba2d1e6",
   "metadata": {},
   "outputs": [],
   "source": []
  },
  {
   "cell_type": "code",
   "execution_count": null,
   "id": "c9ff8200-1352-4aef-b77a-ee8ac92c5168",
   "metadata": {},
   "outputs": [],
   "source": []
  }
 ],
 "metadata": {
  "kernelspec": {
   "display_name": "Python 3 (ipykernel)",
   "language": "python",
   "name": "python3"
  },
  "language_info": {
   "codemirror_mode": {
    "name": "ipython",
    "version": 3
   },
   "file_extension": ".py",
   "mimetype": "text/x-python",
   "name": "python",
   "nbconvert_exporter": "python",
   "pygments_lexer": "ipython3",
   "version": "3.9.6"
  }
 },
 "nbformat": 4,
 "nbformat_minor": 5
}
